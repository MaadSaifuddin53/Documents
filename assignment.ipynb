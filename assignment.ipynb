{
 "cells": [
  {
   "cell_type": "markdown",
   "metadata": {},
   "source": [
    "# ASSIGNMENT "
   ]
  },
  {
   "cell_type": "markdown",
   "metadata": {},
   "source": [
    "<h3> 1 : Declare and initialize a variable name total_marks with a value 500</h3>\n"
   ]
  },
  {
   "cell_type": "code",
   "execution_count": null,
   "metadata": {},
   "outputs": [],
   "source": [
    "total_marks = 500"
   ]
  },
  {
   "cell_type": "markdown",
   "metadata": {},
   "source": [
    "<h3> 2 : Declare and initialize 5 variables name maths , english , urdu , physics and chemisrty with different integer values</h3>"
   ]
  },
  {
   "cell_type": "code",
   "execution_count": 1,
   "metadata": {},
   "outputs": [],
   "source": [
    "maths = 95\n",
    "english = 75\n",
    "urdu = 80\n",
    "physics =90\n",
    "chemistry = 98"
   ]
  },
  {
   "cell_type": "markdown",
   "metadata": {},
   "source": [
    "<h3>3 : Calculate the obtained marks And assign the value In variable name obtained_marks</h3>"
   ]
  },
  {
   "cell_type": "code",
   "execution_count": 4,
   "metadata": {},
   "outputs": [
    {
     "name": "stdout",
     "output_type": "stream",
     "text": [
      "340\n"
     ]
    }
   ],
   "source": [
    "maths = 95\n",
    "english = 75\n",
    "urdu = 80\n",
    "physics =90\n",
    "chemistry\n",
    "obtainedMarks = maths+english+urdu+physics+chemistry\n",
    "print(obtainedMarks)"
   ]
  },
  {
   "cell_type": "markdown",
   "metadata": {},
   "source": [
    "<h3>4 : Calculate percentage and assign the value in variable name percentage</h3>"
   ]
  },
  {
   "cell_type": "code",
   "execution_count": 5,
   "metadata": {},
   "outputs": [
    {
     "name": "stdout",
     "output_type": "stream",
     "text": [
      "340\n",
      "85.0\n"
     ]
    }
   ],
   "source": [
    "total_marks = 500\n",
    "maths = 95\n",
    "\n",
    "english = 75\n",
    "urdu = 80\n",
    "physics =90\n",
    "chemistry=98\n",
    "obtainedMarks = maths+english+urdu+physics+chemistry\n",
    "print(obtainedMarks)\n",
    "percentage = (obtainedMarks*100)/total_marks\n",
    "print(percentage)"
   ]
  },
  {
   "cell_type": "markdown",
   "metadata": {},
   "source": [
    "<h3>5 : Declare and initialize an empty variable name grade </h3>"
   ]
  },
  {
   "cell_type": "code",
   "execution_count": 10,
   "metadata": {},
   "outputs": [],
   "source": [
    "grade=\" \"\n",
    "\n"
   ]
  },
  {
   "cell_type": "markdown",
   "metadata": {},
   "source": [
    "<h3>6 : assign a vlue to grade by checking the following conditions:: </h3>\n",
    "<h3>if % is greater then and equal to 90 and less then 100 grade is A+ </h3>\n",
    "<h3>if % is greater then and equal to 80 and less then 90 grade is A </h3>\n",
    "<h3>if % is greater then and equal to 70 and less then 80 grade is B </h3>\n",
    "<h3>if % is greater then and equal to 60 and less then 70 grade is C </h3>\n",
    "<h3>if % is less than 60 grade is FAIL </h3>\n"
   ]
  },
  {
   "cell_type": "code",
   "execution_count": 20,
   "metadata": {},
   "outputs": [],
   "source": [
    "total_marks = 500\n",
    "maths = 95\n",
    "english = 75\n",
    "urdu = 80\n",
    "physics =90\n",
    "chemistry=98\n",
    "obtainedMarks = maths+english+urdu+physics+chemistry\n",
    "percentage = (obtainedMarks*100)/total_marks\n",
    "grade=\" \"\n",
    "\n",
    "if percentage >=90 and percentage < 100:\n",
    "        grade = \"A+\"\n",
    "elif percentage>=80 and percentage < 90:\n",
    "        grade = \"A\"\n",
    "elif percentage>=70 and percentage < 80:\n",
    "        grade = \"B\" \n",
    "elif percentage>=60 and percentage < 70:\n",
    "        grade = \"C\"\n",
    "else:\n",
    "        grade = \"Fail\""
   ]
  },
  {
   "cell_type": "markdown",
   "metadata": {},
   "source": [
    "<h3>7 : Print grade percentage and obtained marks</h3>"
   ]
  },
  {
   "cell_type": "code",
   "execution_count": 24,
   "metadata": {},
   "outputs": [
    {
     "name": "stdout",
     "output_type": "stream",
     "text": [
      "obtained marks =  480\n",
      "Percentage =  96.0\n",
      "grade = A+\n"
     ]
    }
   ],
   "source": [
    "total_marks = 500\n",
    "maths = 100\n",
    "english = 95\n",
    "urdu = 90\n",
    "physics =97\n",
    "chemistry=98\n",
    "obtainedMarks = maths+english+urdu+physics+chemistry\n",
    "percentage = (obtainedMarks*100)/total_marks\n",
    "grade=\" \"\n",
    "\n",
    "if percentage >=90 and percentage < 100:\n",
    "        grade = \"A+\"\n",
    "elif percentage>=80 and percentage < 90:\n",
    "        grade = \"A\"\n",
    "elif percentage>=70 and percentage < 80:\n",
    "        grade = \"B\" \n",
    "elif percentage>=60 and percentage < 70:\n",
    "        grade = \"C\"\n",
    "else:\n",
    "        grade = \"Fail\"\n",
    " \n",
    "print( \"obtained marks = \",obtainedMarks )\n",
    "print( \"Percentage = \",percentage )\n",
    "print( \"grade =\",grade)"
   ]
  },
  {
   "cell_type": "code",
   "execution_count": null,
   "metadata": {},
   "outputs": [],
   "source": []
  },
  {
   "cell_type": "code",
   "execution_count": null,
   "metadata": {},
   "outputs": [],
   "source": []
  },
  {
   "cell_type": "code",
   "execution_count": null,
   "metadata": {},
   "outputs": [],
   "source": []
  },
  {
   "cell_type": "code",
   "execution_count": null,
   "metadata": {},
   "outputs": [],
   "source": []
  }
 ],
 "metadata": {
  "kernelspec": {
   "display_name": "Python 3",
   "language": "python",
   "name": "python3"
  },
  "language_info": {
   "codemirror_mode": {
    "name": "ipython",
    "version": 3
   },
   "file_extension": ".py",
   "mimetype": "text/x-python",
   "name": "python",
   "nbconvert_exporter": "python",
   "pygments_lexer": "ipython3",
   "version": "3.6.5"
  }
 },
 "nbformat": 4,
 "nbformat_minor": 2
}
